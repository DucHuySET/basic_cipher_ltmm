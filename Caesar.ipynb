{
 "cells": [
  {
   "cell_type": "code",
   "execution_count": 1,
   "id": "392e4945",
   "metadata": {},
   "outputs": [],
   "source": [
    "text = input(\"Nhập vào văn bản muốn mã hóa: \") #Nhận đoạn văn bản rõ"
   ]
  },
  {
   "cell_type": "code",
   "execution_count": 2,
   "id": "cb81629a",
   "metadata": {},
   "outputs": [],
   "source": [
    "shift = int(input(\"Nhập vào khóa dịch chuyển: \")) # Nhận khóa nhập vào từ bàn phím, ép kiểu về số nguyên"
   ]
  },
  {
   "cell_type": "code",
   "execution_count": 3,
   "id": "e255a205",
   "metadata": {},
   "outputs": [
    {
     "name": "stdout",
     "output_type": "stream",
     "text": [
      "Plain Text : Nguyen Khac Nghia\n",
      "Shift pattern : 2\n"
     ]
    }
   ],
   "source": [
    "result = '' #Khởi tạo một chuỗi ký tự rỗng để cộng dồn kết quả mã hóa\n",
    "print(\"Plain Text : \" + text)\n",
    "print(\"Shift pattern : \" + str(shift))"
   ]
  },
  {
   "cell_type": "code",
   "execution_count": 4,
   "id": "24437046",
   "metadata": {},
   "outputs": [],
   "source": [
    "def encrypt_caesar(plaintext, shift):\n",
    "    ciphertext = \"\"\n",
    "    for char in plaintext:\n",
    "        if char.isalpha():\n",
    "            shifted = ord(char) + shift\n",
    "            if char.islower():\n",
    "                ciphertext += chr((shifted - ord('a')) % 26 + ord('a'))\n",
    "            else:\n",
    "                ciphertext += chr((shifted - ord('A')) % 26 + ord('A'))\n",
    "        else:\n",
    "            ciphertext += char\n",
    "    return ciphertext"
   ]
  },
  {
   "cell_type": "code",
   "execution_count": 5,
   "id": "fa55d630",
   "metadata": {},
   "outputs": [],
   "source": [
    "def decrypt_caesar(ciphertext, shift):\n",
    "    plaintext = \"\"\n",
    "    for char in ciphertext:\n",
    "        if char.isalpha():\n",
    "            shifted = ord(char) - shift\n",
    "            if char.islower():\n",
    "                plaintext += chr((shifted - ord('a')) % 26 + ord('a'))\n",
    "            else:\n",
    "                plaintext += chr((shifted - ord('A')) % 26 + ord('A'))\n",
    "        else:\n",
    "            plaintext += char\n",
    "    return plaintext"
   ]
  },
  {
   "cell_type": "code",
   "execution_count": 6,
   "id": "429d3311",
   "metadata": {},
   "outputs": [
    {
     "name": "stdout",
     "output_type": "stream",
     "text": [
      "Encrypted text: Piwagp Mjce Pijkc\n",
      "Decrypted text: Nguyen Khac Nghia\n"
     ]
    }
   ],
   "source": [
    "# Thử nghiệm mã hóa và giải mã\n",
    "\n",
    "encrypted_text = encrypt_caesar(text, shift)\n",
    "print(f\"Encrypted text: {encrypted_text}\")\n",
    "\n",
    "decrypted_text = decrypt_caesar(encrypted_text, shift)\n",
    "print(f\"Decrypted text: {decrypted_text}\")"
   ]
  }
 ],
 "metadata": {
  "kernelspec": {
   "display_name": "Python 3 (ipykernel)",
   "language": "python",
   "name": "python3"
  },
  "language_info": {
   "codemirror_mode": {
    "name": "ipython",
    "version": 3
   },
   "file_extension": ".py",
   "mimetype": "text/x-python",
   "name": "python",
   "nbconvert_exporter": "python",
   "pygments_lexer": "ipython3",
   "version": "3.11.0"
  }
 },
 "nbformat": 4,
 "nbformat_minor": 5
}
