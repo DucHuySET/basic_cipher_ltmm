{
 "cells": [
  {
   "attachments": {},
   "cell_type": "markdown",
   "metadata": {},
   "source": [
    "# Playfair Cipher Simulator"
   ]
  },
  {
   "cell_type": "code",
   "execution_count": 34,
   "metadata": {},
   "outputs": [],
   "source": [
    "key = input(\"Enter the key: \")"
   ]
  },
  {
   "cell_type": "code",
   "execution_count": 35,
   "metadata": {},
   "outputs": [],
   "source": [
    "plaintext = input(\"Enter plaintext: \")"
   ]
  },
  {
   "cell_type": "markdown",
   "metadata": {},
   "source": []
  },
  {
   "cell_type": "code",
   "execution_count": 36,
   "metadata": {},
   "outputs": [],
   "source": [
    "# Function to generate the Playfair cipher key table\n",
    "def generate_key_table(key):\n",
    "    key = key.upper().replace(\"J\", \"I\")  # Convert to uppercase and replace J with I\n",
    "    key = key + \"ABCDEFGHIKLMNOPQRSTUVWXYZ\"  # Append the remaining alphabets\n",
    "    key = \"\".join(dict.fromkeys(key))  # Remove duplicate characters\n",
    "    key_table = [list(key[i:i+5]) for i in range(0, 25, 5)]  # Create a 5x5 matrix\n",
    "    for i in range(0, 5, 1):\n",
    "        print (key_table[i])\n",
    "    return key_table"
   ]
  },
  {
   "cell_type": "code",
   "execution_count": 37,
   "metadata": {},
   "outputs": [],
   "source": [
    "# Function to find the positions of two characters in the key table\n",
    "def find_positions(key_table, char1, char2):\n",
    "    pos1 = None\n",
    "    pos2 = None\n",
    "    for i in range(5):\n",
    "        for j in range(5):\n",
    "            if key_table[i][j] == char1:\n",
    "                pos1 = (i, j)\n",
    "            if key_table[i][j] == char2:\n",
    "                pos2 = (i, j)\n",
    "    print(pos1,pos2)\n",
    "    return pos1, pos2"
   ]
  },
  {
   "cell_type": "code",
   "execution_count": 38,
   "metadata": {},
   "outputs": [],
   "source": [
    "# Function to encrypt a plaintext using the Playfair cipher\n",
    "def encrypt(plaintext, key):\n",
    "    key_table = generate_key_table(key)\n",
    "    plaintext = plaintext.upper().replace(\"J\", \"I\")  # Convert to uppercase and replace J with I\n",
    "    plaintext = [plaintext[i:i+2] for i in range(0, len(plaintext), 2)]  # Split plaintext into pairs of two characters\n",
    "    ciphertext = \"\"\n",
    "    for pair in plaintext:\n",
    "        char1, char2 = pair[0], pair[1]\n",
    "        pos1, pos2 = find_positions(key_table, char1, char2)\n",
    "        if pos1[0] == pos2[0]:  # If the characters are in the same row\n",
    "            ciphertext += key_table[pos1[0]][(pos1[1]+1)%5] + key_table[pos2[0]][(pos2[1]+1)%5]  # Shift to the right\n",
    "        elif pos1[1] == pos2[1]:  # If the characters are in the same column\n",
    "            ciphertext += key_table[(pos1[0]+1)%5][pos1[1]] + key_table[(pos2[0]+1)%5][pos2[1]]  # Shift downwards\n",
    "        else:  # If the characters form a rectangle\n",
    "            ciphertext += key_table[pos1[0]][pos2[1]] + key_table[pos2[0]][pos1[1]]  # Swap columns\n",
    "    print(ciphertext)\n",
    "    return ciphertext"
   ]
  },
  {
   "cell_type": "code",
   "execution_count": 39,
   "metadata": {},
   "outputs": [],
   "source": [
    "# Function to decrypt a ciphertext using the Playfair cipher\n",
    "def decrypt(ciphertext, key):\n",
    "    key_table = generate_key_table(key)\n",
    "    ciphertext = [ciphertext[i:i+2] for i in range(0, len(ciphertext), 2)]  # Split ciphertext into pairs of two characters\n",
    "    plaintext = \"\"\n",
    "    for pair in ciphertext:\n",
    "        char1, char2 = pair[0], pair[1]\n",
    "        pos1, pos2 = find_positions(key_table, char1, char2)\n",
    "        if pos1[0] == pos2[0]:  # If the characters are in the same row\n",
    "            plaintext += key_table[pos1[0]][(pos1[1]-1)%5] + key_table[pos2[0]][(pos2[1]-1)%5]  # Shift to the left\n",
    "        elif pos1[1] == pos2[1]:  # If the characters are in the same\n",
    "            plaintext += key_table[(pos1[0]-1)%5][pos1[1]] + key_table[(pos2[0]-1)][pos2[1]] #Shift Upwards\n",
    "        else:\n",
    "            plaintext += key_table[pos1[0]][pos2[1]] + key_table[pos2[0]][pos1[1]]\n",
    "    print(plaintext)\n",
    "    return plaintext"
   ]
  },
  {
   "cell_type": "code",
   "execution_count": 40,
   "metadata": {},
   "outputs": [
    {
     "name": "stdout",
     "output_type": "stream",
     "text": [
      "['L', 'T', 'M', 'A', 'B']\n",
      "['C', 'D', 'E', 'F', 'G']\n",
      "['H', 'I', 'K', 'N', 'O']\n",
      "['P', 'Q', 'R', 'S', 'U']\n",
      "['V', 'W', 'X', 'Y', 'Z']\n",
      "(2, 3) (1, 4)\n",
      "(3, 4) (4, 3)\n",
      "(1, 2) (2, 3)\n",
      "(1, 1) (3, 4)\n",
      "(1, 0) (2, 0)\n",
      "(3, 4) (4, 3)\n",
      "OFSZFKGQHPSZ\n"
     ]
    }
   ],
   "source": [
    "cipherText = encrypt(plaintext, key)"
   ]
  },
  {
   "cell_type": "code",
   "execution_count": 41,
   "metadata": {},
   "outputs": [
    {
     "name": "stdout",
     "output_type": "stream",
     "text": [
      "['L', 'T', 'M', 'A', 'B']\n",
      "['C', 'D', 'E', 'F', 'G']\n",
      "['H', 'I', 'K', 'N', 'O']\n",
      "['P', 'Q', 'R', 'S', 'U']\n",
      "['V', 'W', 'X', 'Y', 'Z']\n",
      "(2, 4) (1, 3)\n",
      "(3, 3) (4, 4)\n",
      "(1, 3) (2, 2)\n",
      "(1, 4) (3, 1)\n",
      "(2, 0) (3, 0)\n",
      "(3, 3) (4, 4)\n",
      "NGUYENDUCHUY\n"
     ]
    }
   ],
   "source": [
    "plaintext = decrypt(cipherText, key)"
   ]
  }
 ],
 "metadata": {
  "kernelspec": {
   "display_name": "Python 3",
   "language": "python",
   "name": "python3"
  },
  "language_info": {
   "codemirror_mode": {
    "name": "ipython",
    "version": 3
   },
   "file_extension": ".py",
   "mimetype": "text/x-python",
   "name": "python",
   "nbconvert_exporter": "python",
   "pygments_lexer": "ipython3",
   "version": "3.11.0"
  },
  "orig_nbformat": 4
 },
 "nbformat": 4,
 "nbformat_minor": 2
}
