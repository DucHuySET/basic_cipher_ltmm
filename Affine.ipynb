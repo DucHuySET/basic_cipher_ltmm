{
 "cells": [
  {
   "cell_type": "code",
   "execution_count": 1,
   "metadata": {},
   "outputs": [],
   "source": [
    "# Import necessary libraries\n",
    "import string"
   ]
  },
  {
   "cell_type": "code",
   "execution_count": 2,
   "metadata": {},
   "outputs": [],
   "source": [
    "# Define the alphabet\n",
    "alphabet = string.ascii_uppercase"
   ]
  },
  {
   "cell_type": "code",
   "execution_count": 3,
   "metadata": {},
   "outputs": [],
   "source": [
    "# Define the encryption function\n",
    "def encrypt(plaintext, a, b):\n",
    "    ciphertext = \"\"\n",
    "    for char in plaintext:\n",
    "        if char in alphabet:\n",
    "            # Convert the character to uppercase\n",
    "            char = char.upper()\n",
    "            \n",
    "            # Apply the affine encryption formula: E(x) = (ax + b) mod 26\n",
    "            index = (a * alphabet.index(char) + b) % 26\n",
    "            \n",
    "            # Append the encrypted character to the ciphertext\n",
    "            ciphertext += alphabet[index]\n",
    "        else:\n",
    "            # Append non-alphabetic characters as they are\n",
    "            ciphertext += char\n",
    "    return ciphertext"
   ]
  },
  {
   "cell_type": "code",
   "execution_count": 4,
   "metadata": {},
   "outputs": [],
   "source": [
    "# Define the decryption function\n",
    "def decrypt(ciphertext, a, b):\n",
    "    plaintext = \"\"\n",
    "    a_inverse = pow(a, -1, 26)  # Modular multiplicative inverse of a\n",
    "    \n",
    "    for char in ciphertext:\n",
    "        if char in alphabet:\n",
    "            # Convert the character to uppercase\n",
    "            char = char.upper()\n",
    "            \n",
    "            # Apply the affine decryption formula: D(x) = a_inverse * (x - b) mod 26\n",
    "            index = (a_inverse * (alphabet.index(char) - b)) % 26\n",
    "            \n",
    "            # Append the decrypted character to the plaintext\n",
    "            plaintext += alphabet[index]\n",
    "        else:\n",
    "            # Append non-alphabetic characters as they are\n",
    "            plaintext += char\n",
    "    return plaintext"
   ]
  },
  {
   "cell_type": "code",
   "execution_count": 11,
   "metadata": {},
   "outputs": [],
   "source": [
    "\n",
    "# Example usage\n",
    "plaintext = \"BACH KHOA HA NOI\"\n",
    "a = 5\n",
    "b = 8"
   ]
  },
  {
   "cell_type": "code",
   "execution_count": 12,
   "metadata": {},
   "outputs": [
    {
     "name": "stdout",
     "output_type": "stream",
     "text": [
      "Ciphertext: NISR GRAI RI VAW\n"
     ]
    }
   ],
   "source": [
    "# Encryption\n",
    "ciphertext = encrypt(plaintext, a, b)\n",
    "print(\"Ciphertext:\", ciphertext)"
   ]
  },
  {
   "cell_type": "code",
   "execution_count": 13,
   "metadata": {},
   "outputs": [
    {
     "name": "stdout",
     "output_type": "stream",
     "text": [
      "Decrypted text: BACH KHOA HA NOI\n"
     ]
    }
   ],
   "source": [
    "# Decryption\n",
    "decrypted_text = decrypt(ciphertext, a, b)\n",
    "print(\"Decrypted text:\", decrypted_text)"
   ]
  }
 ],
 "metadata": {
  "kernelspec": {
   "display_name": "Python 3",
   "language": "python",
   "name": "python3"
  },
  "language_info": {
   "codemirror_mode": {
    "name": "ipython",
    "version": 3
   },
   "file_extension": ".py",
   "mimetype": "text/x-python",
   "name": "python",
   "nbconvert_exporter": "python",
   "pygments_lexer": "ipython3",
   "version": "3.11.0"
  },
  "orig_nbformat": 4
 },
 "nbformat": 4,
 "nbformat_minor": 2
}
