{
 "cells": [
  {
   "cell_type": "code",
   "execution_count": 22,
   "metadata": {},
   "outputs": [],
   "source": [
    "import numpy as np"
   ]
  },
  {
   "cell_type": "code",
   "execution_count": 23,
   "metadata": {},
   "outputs": [],
   "source": [
    "# Python3 code to implement Hill Cipher\n",
    "\n",
    "keyMatrix = [[0] * 3 for i in range(3)]\n",
    "\n",
    "keyMatrixInvert = [[0] * 3 for i in range(3)]\n",
    "\n",
    "# Generate vector for the message\n",
    "messageVector = [[0] for i in range(3)]\n",
    "\n",
    "# Generate vector for the cipher\n",
    "cipherMatrix = [[0] for i in range(3)]\n",
    "\n",
    "# Plaintext after decrypt\n",
    "plainMatrix = [[0] for i in range(3)]"
   ]
  },
  {
   "cell_type": "code",
   "execution_count": 24,
   "metadata": {},
   "outputs": [],
   "source": [
    "# Following function generates the\n",
    "# key matrix for the key string\n",
    "def getKeyMatrix(key):\n",
    "\tk = 0\n",
    "\tfor i in range(3):\n",
    "\t\tfor j in range(3):\n",
    "\t\t\tkeyMatrix[i][j] = ord(key[k]) % 65\n",
    "\t\t\tk += 1\n",
    "\tprint(keyMatrix)\n",
    "\tA = np.array(keyMatrix)\n",
    "\tprint(np.linalg.inv(A))\n",
    "\tkeyMatrixInvert = np.linalg.inv(A)"
   ]
  },
  {
   "cell_type": "code",
   "execution_count": 25,
   "metadata": {},
   "outputs": [],
   "source": [
    "# Following function encrypts the message\n",
    "def encrypt(messageVector):\n",
    "\tfor i in range(3):\n",
    "\t\tfor j in range(1):\n",
    "\t\t\tcipherMatrix[i][j] = 0\n",
    "\t\t\tfor x in range(3):\n",
    "\t\t\t\tcipherMatrix[i][j] += (keyMatrix[i][x] *\n",
    "\t\t\t\t\t\t\t\t\tmessageVector[x][j])\n",
    "\t\t\tcipherMatrix[i][j] = cipherMatrix[i][j] % 26"
   ]
  },
  {
   "cell_type": "code",
   "execution_count": 26,
   "metadata": {},
   "outputs": [],
   "source": [
    "# # Following function decrypts the message\n",
    "# def decrypt(cipherMatrix):\n",
    "#     for i in range(3):\n",
    "#         for j in range(3):\n",
    "            "
   ]
  },
  {
   "cell_type": "code",
   "execution_count": 27,
   "metadata": {},
   "outputs": [],
   "source": [
    "def HillCipher(message, key):\n",
    "\n",
    "\t# Get key matrix from the key string\n",
    "\tgetKeyMatrix(key)\n",
    "\n",
    "\t# Generate vector for the message\n",
    "\tfor i in range(3):\n",
    "\t\tmessageVector[i][0] = ord(message[i]) % 65\n",
    "\n",
    "\t# Following function generates\n",
    "\t# the encrypted vector\n",
    "\tencrypt(messageVector)\n",
    "\n",
    "\t# Generate the encrypted text\n",
    "\t# from the encrypted vector\n",
    "\tCipherText = \"\"\n",
    "\tfor i in range(3):\n",
    "\t\tCipherText += chr(cipherMatrix[i][0] + 65)\n",
    "\n",
    "\t# Finally print the ciphertext\n",
    "\tprint(\"Ciphertext:\" + CipherText)"
   ]
  },
  {
   "cell_type": "code",
   "execution_count": 28,
   "metadata": {},
   "outputs": [
    {
     "name": "stdout",
     "output_type": "stream",
     "text": [
      "[[11, 24, 19], [7, 20, 24], [4, 19, 12]]\n",
      "[[ 0.19981499 -0.06753006 -0.1813136 ]\n",
      " [-0.01110083 -0.05180389  0.12118409]\n",
      " [-0.04902868  0.10453284 -0.04810361]]\n",
      "Ciphertext:EJG\n"
     ]
    }
   ],
   "source": [
    "\n",
    "# Get the message to\n",
    "# be encrypted\n",
    "message = \"DAT\"\n",
    "\n",
    "# Get the key\n",
    "key = \"LYTHUYETM\"\n",
    "\n",
    "HillCipher(message, key)\n"
   ]
  }
 ],
 "metadata": {
  "kernelspec": {
   "display_name": "Python 3",
   "language": "python",
   "name": "python3"
  },
  "language_info": {
   "codemirror_mode": {
    "name": "ipython",
    "version": 3
   },
   "file_extension": ".py",
   "mimetype": "text/x-python",
   "name": "python",
   "nbconvert_exporter": "python",
   "pygments_lexer": "ipython3",
   "version": "3.11.0"
  },
  "orig_nbformat": 4
 },
 "nbformat": 4,
 "nbformat_minor": 2
}
