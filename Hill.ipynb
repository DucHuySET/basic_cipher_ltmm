{
 "cells": [
  {
   "cell_type": "code",
   "execution_count": 30,
   "metadata": {},
   "outputs": [
    {
     "name": "stdout",
     "output_type": "stream",
     "text": [
      "Ciphertext:  XDC\n"
     ]
    }
   ],
   "source": [
    "# Python3 code to implement Hill Cipher\n",
    "\n",
    "keyMatrix = [[0] * 3 for i in range(3)]\n",
    "\n",
    "# Generate vector for the message\n",
    "messageVector = [[0] for i in range(3)]\n",
    "\n",
    "# Generate vector for the cipher\n",
    "cipherMatrix = [[0] for i in range(3)]\n",
    "\n",
    "# Following function generates the\n",
    "# key matrix for the key string\n",
    "def getKeyMatrix(key):\n",
    "\tk = 0\n",
    "\tfor i in range(3):\n",
    "\t\tfor j in range(3):\n",
    "\t\t\tkeyMatrix[i][j] = ord(key[k]) % 65\n",
    "\t\t\tk += 1\n",
    "\n",
    "# Following function encrypts the message\n",
    "def encrypt(messageVector):\n",
    "\tfor i in range(3):\n",
    "\t\tfor j in range(1):\n",
    "\t\t\tcipherMatrix[i][j] = 0\n",
    "\t\t\tfor x in range(3):\n",
    "\t\t\t\tcipherMatrix[i][j] += (keyMatrix[i][x] *\n",
    "\t\t\t\t\t\t\t\t\tmessageVector[x][j])\n",
    "\t\t\tcipherMatrix[i][j] = cipherMatrix[i][j] % 26\n",
    "\n",
    "def HillCipher(message, key):\n",
    "\n",
    "\t# Get key matrix from the key string\n",
    "\tgetKeyMatrix(key)\n",
    "\n",
    "\t# Generate vector for the message\n",
    "\tfor i in range(3):\n",
    "\t\tmessageVector[i][0] = ord(message[i]) % 65\n",
    "\n",
    "\t# Following function generates\n",
    "\t# the encrypted vector\n",
    "\tencrypt(messageVector)\n",
    "\n",
    "\t# Generate the encrypted text\n",
    "\t# from the encrypted vector\n",
    "\tCipherText = []\n",
    "\tfor i in range(3):\n",
    "\t\tCipherText.append(chr(cipherMatrix[i][0] + 65))\n",
    "\n",
    "\t# Finally print the ciphertext\n",
    "\tprint(\"Ciphertext: \", \"\".join(CipherText))\n",
    "\n",
    "# Driver Code\n",
    "def main():\n",
    "\n",
    "\t# Get the message to\n",
    "\t# be encrypted\n",
    "\tmessage = \"BACK KHOA HA NOI\"\n",
    "\n",
    "\t# Get the key\n",
    "\tkey = \"LYTHUYETM\"\n",
    "\n",
    "\tHillCipher(message, key)\n",
    "\n",
    "if __name__ == \"__main__\":\n",
    "\tmain()\n",
    "\n",
    "# This code is contributed\n",
    "# by Pratik Somwanshi\n"
   ]
  },
  {
   "cell_type": "code",
   "execution_count": null,
   "metadata": {},
   "outputs": [],
   "source": [
    "#remain: decryption"
   ]
  }
 ],
 "metadata": {
  "kernelspec": {
   "display_name": "Python 3",
   "language": "python",
   "name": "python3"
  },
  "language_info": {
   "codemirror_mode": {
    "name": "ipython",
    "version": 3
   },
   "file_extension": ".py",
   "mimetype": "text/x-python",
   "name": "python",
   "nbconvert_exporter": "python",
   "pygments_lexer": "ipython3",
   "version": "3.11.0"
  },
  "orig_nbformat": 4
 },
 "nbformat": 4,
 "nbformat_minor": 2
}
