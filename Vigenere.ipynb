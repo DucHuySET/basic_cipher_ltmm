{
 "cells": [
  {
   "cell_type": "code",
   "execution_count": 2,
   "metadata": {},
   "outputs": [],
   "source": [
    "# Import necessary libraries\n",
    "import string"
   ]
  },
  {
   "cell_type": "code",
   "execution_count": 3,
   "metadata": {},
   "outputs": [],
   "source": [
    "# Define the alphabet\n",
    "alphabet = string.ascii_uppercase"
   ]
  },
  {
   "cell_type": "code",
   "execution_count": 4,
   "metadata": {},
   "outputs": [],
   "source": [
    "# Define the encryption function\n",
    "def encrypt(plaintext, key):\n",
    "    ciphertext = \"\"\n",
    "    key = key.upper()\n",
    "    key_length = len(key)\n",
    "    key_index = 0\n",
    "    \n",
    "    for char in plaintext:\n",
    "        if char in alphabet:\n",
    "            # Convert the character to uppercase\n",
    "            char = char.upper()\n",
    "            \n",
    "            # Calculate the key shift\n",
    "            key_shift = alphabet.index(key[key_index % key_length])\n",
    "            \n",
    "            # Apply the Vigenère encryption formula: E(x) = (x + key_shift) mod 26\n",
    "            index = (alphabet.index(char) + key_shift) % 26\n",
    "            \n",
    "            # Append the encrypted character to the ciphertext\n",
    "            ciphertext += alphabet[index]\n",
    "            \n",
    "            # Move to the next character in the key\n",
    "            key_index += 1\n",
    "        else:\n",
    "            # Append non-alphabetic characters as they are\n",
    "            ciphertext += char\n",
    "    return ciphertext"
   ]
  },
  {
   "cell_type": "code",
   "execution_count": 5,
   "metadata": {},
   "outputs": [],
   "source": [
    "# Define the decryption function\n",
    "def decrypt(ciphertext, key):\n",
    "    plaintext = \"\"\n",
    "    key = key.upper()\n",
    "    key_length = len(key)\n",
    "    key_index = 0\n",
    "    \n",
    "    for char in ciphertext:\n",
    "        if char in alphabet:\n",
    "            # Convert the character to uppercase\n",
    "            char = char.upper()\n",
    "            \n",
    "            # Calculate the key shift\n",
    "            key_shift = alphabet.index(key[key_index % key_length])\n",
    "            \n",
    "            # Apply the Vigenère decryption formula: D(x) = (x - key_shift) mod 26\n",
    "            index = (alphabet.index(char) - key_shift) % 26\n",
    "            \n",
    "            # Append the decrypted character to the plaintext\n",
    "            plaintext += alphabet[index]\n",
    "            \n",
    "            # Move to the next character in the key\n",
    "            key_index += 1\n",
    "        else:\n",
    "            # Append non-alphabetic characters as they are\n",
    "            plaintext += char\n",
    "    return plaintext"
   ]
  },
  {
   "cell_type": "code",
   "execution_count": 9,
   "metadata": {},
   "outputs": [
    {
     "name": "stdout",
     "output_type": "stream",
     "text": [
      "Ciphertext: LEAR OFYE FK RMS\n",
      "Decrypted text: BACH KHOA HA NOI\n"
     ]
    }
   ],
   "source": [
    "\n",
    "# Example usage\n",
    "plaintext = \"BACH KHOA HA NOI\"\n",
    "key = \"KEY\"\n",
    "\n",
    "# Encryption\n",
    "ciphertext = encrypt(plaintext, key)\n",
    "print(\"Ciphertext:\", ciphertext)\n",
    "\n",
    "# Decryption\n",
    "decrypted_text = decrypt(ciphertext, key)\n",
    "print(\"Decrypted text:\", decrypted_text)\n"
   ]
  }
 ],
 "metadata": {
  "kernelspec": {
   "display_name": "Python 3",
   "language": "python",
   "name": "python3"
  },
  "language_info": {
   "codemirror_mode": {
    "name": "ipython",
    "version": 3
   },
   "file_extension": ".py",
   "mimetype": "text/x-python",
   "name": "python",
   "nbconvert_exporter": "python",
   "pygments_lexer": "ipython3",
   "version": "3.11.0"
  },
  "orig_nbformat": 4
 },
 "nbformat": 4,
 "nbformat_minor": 2
}
