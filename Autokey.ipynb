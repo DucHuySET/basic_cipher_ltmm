{
 "cells": [
  {
   "cell_type": "code",
   "execution_count": 7,
   "metadata": {},
   "outputs": [
    {
     "name": "stdout",
     "output_type": "stream",
     "text": [
      "NHELLOWORL\n",
      "Ciphertext: ULPWZKKFCO\n",
      "Decrypted text: HELLOWORLD\n"
     ]
    }
   ],
   "source": [
    "import string\n",
    "\n",
    "# Define the alphabet\n",
    "alphabet = string.ascii_uppercase\n",
    "\n",
    "def encrypt(plaintext, key):\n",
    "    plaintext = plaintext.upper().replace(\" \", \"\")  # Convert to uppercase and remove spaces\n",
    "    key = key.upper().replace(\" \", \"\")  # Convert the key to uppercase and remove spaces\n",
    "\n",
    "    key = key + plaintext\n",
    "    key = key[0:len(plaintext)]\n",
    "    print(key)\n",
    "    \n",
    "    ciphertext = \"\"\n",
    "\n",
    "    for i in range(len(plaintext)):\n",
    "        if plaintext[i] in alphabet:\n",
    "            ciphertext += chr(((ord(plaintext[i])-65) + (ord(key[i])-65)) % 26 +65)\n",
    "        else:\n",
    "            ciphertext += plaintext[i]\n",
    "\n",
    "    return ciphertext\n",
    "\n",
    "def decrypt(ciphertext, key):\n",
    "    ciphertext = ciphertext.upper().replace(\" \", \"\")  # Convert to uppercase and remove spaces\n",
    "    key = key.upper().replace(\" \", \"\")  # Convert the key to uppercase and remove spaces\n",
    "    plaintext = \"\"\n",
    "    key_index = 0\n",
    "\n",
    "    for char in ciphertext:\n",
    "        if char in alphabet:\n",
    "            key_char = key[key_index % len(key)]\n",
    "            decrypted_char = alphabet[(alphabet.index(char) - alphabet.index(key_char)) % 26]\n",
    "            plaintext += decrypted_char\n",
    "            key += decrypted_char  # Append the decrypted character to the key\n",
    "            key_index += 1\n",
    "        else:\n",
    "            plaintext += char\n",
    "\n",
    "    return plaintext\n",
    "\n",
    "\n",
    "# Example usage\n",
    "plaintext = \"HELLO WORLD\"\n",
    "key = \"N\"\n",
    "\n",
    "# Encryption\n",
    "ciphertext = encrypt(plaintext, key)\n",
    "print(\"Ciphertext:\", ciphertext)\n",
    "\n",
    "# Decryption\n",
    "decrypted_text = decrypt(ciphertext, key)\n",
    "print(\"Decrypted text:\", decrypted_text)\n"
   ]
  }
 ],
 "metadata": {
  "kernelspec": {
   "display_name": "Python 3",
   "language": "python",
   "name": "python3"
  },
  "language_info": {
   "codemirror_mode": {
    "name": "ipython",
    "version": 3
   },
   "file_extension": ".py",
   "mimetype": "text/x-python",
   "name": "python",
   "nbconvert_exporter": "python",
   "pygments_lexer": "ipython3",
   "version": "3.11.0"
  },
  "orig_nbformat": 4
 },
 "nbformat": 4,
 "nbformat_minor": 2
}
